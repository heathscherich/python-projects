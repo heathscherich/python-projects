{
  "metadata": {
    "kernelspec": {
      "name": "python",
      "display_name": "Pyolite",
      "language": "python"
    },
    "language_info": {
      "codemirror_mode": {
        "name": "python",
        "version": 3
      },
      "file_extension": ".py",
      "mimetype": "text/x-python",
      "name": "python",
      "nbconvert_exporter": "python",
      "pygments_lexer": "ipython3",
      "version": "3.8"
    }
  },
  "nbformat_minor": 4,
  "nbformat": 4,
  "cells": [
    {
      "cell_type": "markdown",
      "source": "# Intro to Python",
      "metadata": {
        "tags": []
      }
    },
    {
      "cell_type": "markdown",
      "source": "Above this document is a **triangle** and the word **Run**. Clicking on any box and then clicking the Run button will execute code contained within the box. You can define variables such as constants or strings, import libraries or make function calls!\n\nCodes usually work in order, meaning you should **Run** the first box of code before the second. In the below example, **Run** the first box, then click on the second and repeat. \n\n1. Define a variable `a = 4`\n2. Show the value of `a`\n\nIf you encounter an error at any time, you can **Run** the box again.",
      "metadata": {}
    },
    {
      "cell_type": "markdown",
      "source": "# Simple code execution",
      "metadata": {}
    },
    {
      "cell_type": "code",
      "source": "a = 4\na",
      "metadata": {
        "trusted": true
      },
      "execution_count": null,
      "outputs": []
    },
    {
      "cell_type": "code",
      "source": "aa = 5\na + aa",
      "metadata": {
        "trusted": true
      },
      "execution_count": null,
      "outputs": []
    },
    {
      "cell_type": "markdown",
      "source": "# Lists",
      "metadata": {
        "tags": []
      }
    },
    {
      "cell_type": "markdown",
      "source": "Lists are lists of variables. Below, `my_list` is a Python list containing the variables `a`, `aa`, and the number `6`.",
      "metadata": {}
    },
    {
      "cell_type": "code",
      "source": "my_list = [a, aa, 6]\nprint(my_list)\n\nnew_list = my_list[:-1]\nnew_list.append(5)\nprint('New List: ', new_list)",
      "metadata": {},
      "execution_count": null,
      "outputs": []
    },
    {
      "cell_type": "markdown",
      "source": "---------------------------------------------------------------\nI went ahead and used the `print()` function to show a list operation. The last value in `my_list` is cut off and a new number is added on to the end or appended.",
      "metadata": {}
    },
    {
      "cell_type": "markdown",
      "source": "Brackets allow a programmer to define the list as well as access parts of the list. Here, we define my_list again and access each list value.\n_________________________________________________________",
      "metadata": {}
    },
    {
      "cell_type": "code",
      "source": "my_list = [11, 12, 14]\nprint(my_list[0])\nprint(my_list[1])\nprint(my_list[2])    ",
      "metadata": {},
      "execution_count": null,
      "outputs": []
    },
    {
      "cell_type": "code",
      "source": "# Or using a for-loop\nfor value in my_list:\n    print(value)",
      "metadata": {},
      "execution_count": null,
      "outputs": []
    },
    {
      "cell_type": "markdown",
      "source": "# Functions",
      "metadata": {}
    },
    {
      "cell_type": "markdown",
      "source": "Function work like in math: taking a value and giving a result. Below we define a function taking a list of words, and the function gives the entire sentence.",
      "metadata": {}
    },
    {
      "cell_type": "code",
      "source": "def sentence(words):\n    sentence = ''\n    for word in words:\n        sentence = sentence + ' ' + word\n    return sentence\n\nmy_words = ['My', 'balogna', 'has', 'a', 'first', 'name']",
      "metadata": {
        "scrolled": true
      },
      "execution_count": null,
      "outputs": []
    },
    {
      "cell_type": "code",
      "source": "sentence(my_words)",
      "metadata": {},
      "execution_count": null,
      "outputs": []
    },
    {
      "cell_type": "markdown",
      "source": "# Examples",
      "metadata": {}
    },
    {
      "cell_type": "code",
      "source": "x_values = [0, 1, 2, 3] # X Values are a list of integers\ny_values = [5, 5, 5, 5] # Y Values define a line\n\n# Notice below that the length of each list is the same\n\nlen(x_values) is len(y_values)",
      "metadata": {},
      "execution_count": null,
      "outputs": []
    },
    {
      "cell_type": "code",
      "source": "# Calculating pi using fib sequence\ndef calcPI(number1, number2):\n    return (6 / 5) * (number1 / number2)**2\n\nfib_numbers = [1, 1]\n\nfor i in [0, 1, 2, 3, 4, 5, 6]:\n    current = fib_numbers[-1]\n    prev = fib_numbers[-2]\n    \n    fib_numbers.append(current + prev)\n    \npi = calcPI(fib_numbers[-1], fib_numbers[-2])\nprint(pi)",
      "metadata": {
        "trusted": true
      },
      "execution_count": null,
      "outputs": []
    },
    {
      "cell_type": "markdown",
      "source": "A list of integers can be obtained using `range` instead of actually typing them out",
      "metadata": {}
    },
    {
      "cell_type": "code",
      "source": "my_range = range(0, 6)\nfor integer in my_range:\n    print(integer)",
      "metadata": {},
      "execution_count": null,
      "outputs": []
    },
    {
      "cell_type": "markdown",
      "source": "For loops can be fun with ranges. I'm going to go ahead and define a function to make an empty 2D matrix and then change each value.",
      "metadata": {}
    },
    {
      "cell_type": "code",
      "source": "# # #\n# Function Definitions\n#\n# # #\ndef make2DArray(width, height):\n    array = []\n    \n    for y in range(height):\n        array.append([])\n        for x in range(width):\n            array[-1].append(0)\n    \n    return array\n\n# # #\n# Start of main program\n#\n# # #\n\nwidth = 10\nheight = 10\n\nmy_array = make2DArray(width, height)\nfor x in range(width):\n    for y in range(height):\n        my_array[x][y] = y\n        \nmy_array",
      "metadata": {
        "trusted": true
      },
      "execution_count": null,
      "outputs": []
    },
    {
      "cell_type": "markdown",
      "source": "# Fun With Functions",
      "metadata": {}
    },
    {
      "cell_type": "code",
      "source": "# Functions\n\n# @returns Math.sqrt(num)\ndef squareroot(number1):\n    return number1**.5\n\n# @returns Math.dist(A, B)\ndef distance(point1, point2):\n    return squareroot((point1[0] - point2[0])**2 + (point1[1] - point2[1])**2)\n\n# @returns Math.abs(num)\ndef absolute_value(number1):\n    return distance([0, 0], [number1, 0])\n\n# @returns Math.array((n)) + Math.array((n))\ndef add_arrays(a, aa):\n    return [ (a + aa)[i] + (a + aa)[i + len(a)] for i in range(len(a))]\n\n\n# Main program\nx = 5\ny = 5\n\ndiffx = 10\ndiffy = 0\n\npointA = [ x, y ]\ndisplacement = [ diffx, diffy ]\n\npointB = add_arrays(pointA, displacement)\n\n# Distance formula from: http://hyperphysics.phy-astr.gsu.edu/hbase/dist.html\nDistance = distance(pointA, pointB)\n\nassert(Distance == absolute_value(Distance)) # For all x and y\n\nprint(Distance)\n\n###\n# All functions at the top are implemented in other libraries\n#\n\nfrom math import sqrt, dist\n#from numpy import abs, array\n\nassert(dist(pointA, pointB) == distance(pointA, pointB))\nassert([2, 4, 6] == add_arrays([1, 2, 3], [1, 2, 3]))",
      "metadata": {},
      "execution_count": null,
      "outputs": []
    },
    {
      "cell_type": "markdown",
      "source": "# A Simple Grapher",
      "metadata": {}
    },
    {
      "cell_type": "code",
      "source": "from math import floor, ceil\nimport copy\n\n# Class definition for graph\nclass Graph:\n    def __init__(self, size):\n        self.size = size\n        \n    def plot(self, xs, ys):\n        self.coords = [[x, y] for x, y in zip(xs, ys)]\n        \n        x_range = self.coords[-1][0] - self.coords[0][0]\n        \n        ysort = copy.copy(self.coords)\n        ysort.sort(key=lambda x: x[1])\n        y_range = ysort[-1][1] - ysort[0][1]\n        \n        graph = [ '0' * self.size ] * self.size\n        \n        for coord in self.coords:\n            line_x = floor((coord[0] - self.coords[0][0])/(x_range + 1)*self.size)\n            line_y = self.size - 1 - floor((coord[1] - ysort[0][1])/(y_range + .01)*self.size)\n            graph[line_y] = graph[line_y][:line_x] + '.' + graph[line_y][line_x + 1:]\n\n        for i in range(self.size):\n            row = ''\n            for j in range(self.size):\n                row += graph[i][j] + ' '\n            print(row)\n            \nplot_width = 15\nxs = range(plot_width)\nys = range(plot_width)\n\ngraph = Graph(plot_width)\ngraph.plot(xs, ys)",
      "metadata": {
        "trusted": true
      },
      "execution_count": null,
      "outputs": []
    },
    {
      "cell_type": "code",
      "source": "from math import pi, cos\n\nplot_width = 25\n\ngraph = Graph(plot_width)\nxs = range(plot_width)\nys = []\nfor x in xs:\n    ys.append(cos(x*pi/25))\n    \ngraph.plot(xs, ys)",
      "metadata": {
        "trusted": true
      },
      "execution_count": null,
      "outputs": []
    },
    {
      "cell_type": "code",
      "source": "",
      "metadata": {},
      "execution_count": null,
      "outputs": []
    }
  ]
}