{
 "cells": [
  {
   "cell_type": "markdown",
   "metadata": {
    "tags": []
   },
   "source": [
    "# Intro to Python"
   ]
  },
  {
   "cell_type": "markdown",
   "metadata": {},
   "source": [
    "Above this document is a **triangle** and the word **Run**. Clicking on any box and then clicking the Run button will execute code contained within the box. You can define variables such as constants or strings, import libraries or make function calls!\n",
    "\n",
    "Codes usually work in order, meaning you should **Run** the first box of code before the second. In the below example, **Run** the first box, then click on the second and repeat. \n",
    "\n",
    "1. Define a variable `a = 4`\n",
    "2. Show the value of `a`\n",
    "\n",
    "If you encounter an error at any time, you can **Run** the box again."
   ]
  },
  {
   "cell_type": "markdown",
   "metadata": {},
   "source": [
    "# Simple code execution"
   ]
  },
  {
   "cell_type": "code",
   "execution_count": null,
   "metadata": {},
   "outputs": [],
   "source": [
    "a = 4\n",
    "a"
   ]
  },
  {
   "cell_type": "code",
   "execution_count": null,
   "metadata": {},
   "outputs": [],
   "source": [
    "aa = 5\n",
    "a + aa"
   ]
  },
  {
   "cell_type": "markdown",
   "metadata": {
    "tags": []
   },
   "source": [
    "# Lists"
   ]
  },
  {
   "cell_type": "markdown",
   "metadata": {},
   "source": [
    "Lists are lists of variables. Below, `my_list` is a Python list containing the variables `a`, `aa`, and the number `6`."
   ]
  },
  {
   "cell_type": "code",
   "execution_count": null,
   "metadata": {},
   "outputs": [],
   "source": [
    "my_list = [a, aa, 6]\n",
    "print(my_list)\n",
    "\n",
    "new_list = my_list[:-1]\n",
    "new_list.append(5)\n",
    "print('New List: ', new_list)"
   ]
  },
  {
   "cell_type": "markdown",
   "metadata": {},
   "source": [
    "---------------------------------------------------------------\n",
    "I went ahead and used the `print()` function to show a list operation. The last value in `my_list` is cut off and a new number is added on to the end or appended."
   ]
  },
  {
   "cell_type": "markdown",
   "metadata": {},
   "source": [
    "Brackets allow a programmer to define the list as well as access parts of the list. Here, we define my_list again and access each list value.\n",
    "_________________________________________________________"
   ]
  },
  {
   "cell_type": "code",
   "execution_count": null,
   "metadata": {},
   "outputs": [],
   "source": [
    "my_list = [11, 12, 14]\n",
    "print(my_list[0])\n",
    "print(my_list[1])\n",
    "print(my_list[2])    "
   ]
  },
  {
   "cell_type": "code",
   "execution_count": null,
   "metadata": {},
   "outputs": [],
   "source": [
    "# Or using a for-loop\n",
    "for value in my_list:\n",
    "    print(value)"
   ]
  },
  {
   "cell_type": "markdown",
   "metadata": {},
   "source": [
    "# Functions"
   ]
  },
  {
   "cell_type": "markdown",
   "metadata": {},
   "source": [
    "Function work like in math: taking a value and giving a result. Below we define a function taking a list of words, and the function gives the entire sentence."
   ]
  },
  {
   "cell_type": "code",
   "execution_count": null,
   "metadata": {
    "scrolled": true
   },
   "outputs": [],
   "source": [
    "def sentence(words):\n",
    "    sentence = ''\n",
    "    for word in words:\n",
    "        sentence = sentence + ' ' + word\n",
    "    return sentence\n",
    "\n",
    "my_words = ['My', 'balogna', 'has', 'a', 'first', 'name']"
   ]
  },
  {
   "cell_type": "code",
   "execution_count": null,
   "metadata": {},
   "outputs": [],
   "source": [
    "sentence(my_words)"
   ]
  },
  {
   "cell_type": "markdown",
   "metadata": {},
   "source": [
    "# Examples"
   ]
  },
  {
   "cell_type": "code",
   "execution_count": null,
   "metadata": {},
   "outputs": [],
   "source": [
    "x_values = [0, 1, 2, 3] # X Values are a list of integers\n",
    "y_values = [5, 5, 5, 5] # Y Values define a line\n",
    "\n",
    "# Notice below that the length of each list is the same\n",
    "\n",
    "len(x_values) is len(y_values)"
   ]
  },
  {
   "cell_type": "code",
   "execution_count": null,
   "metadata": {},
   "outputs": [],
   "source": [
    "# Calculating pi using fib sequence\n",
    "def calcPI(number1, number2):\n",
    "    return 2 * number1 / number2\n",
    "\n",
    "fib_numbers = [1, 1]\n",
    "\n",
    "for i in [0, 1, 2, 3, 4, 5, 6]:\n",
    "    current = fib_numbers[-1]\n",
    "    prev = fib_numbers[-2]\n",
    "    \n",
    "    fib_numbers.append(current + prev)\n",
    "    \n",
    "pi = calcPI(fib_numbers[-1], fib_numbers[-2])\n",
    "print(pi)"
   ]
  },
  {
   "cell_type": "markdown",
   "metadata": {},
   "source": [
    "A list of integers can be obtained using `range` instead of actually typing them out"
   ]
  },
  {
   "cell_type": "code",
   "execution_count": null,
   "metadata": {},
   "outputs": [],
   "source": [
    "my_range = range(0, 6)\n",
    "for integer in my_range:\n",
    "    print(integer)"
   ]
  },
  {
   "cell_type": "markdown",
   "metadata": {},
   "source": [
    "For loops can be fun with ranges. I'm going to go ahead and define a function to make an empty 2D matrix and then change each value."
   ]
  },
  {
   "cell_type": "code",
   "execution_count": null,
   "metadata": {},
   "outputs": [],
   "source": [
    "# # #\n",
    "# Function Definitions\n",
    "#\n",
    "# # #\n",
    "def make2DArray(width, height):\n",
    "    array = [0] * height\n",
    "    array = [array] * width\n",
    "    \n",
    "    return array\n",
    "\n",
    "# # #\n",
    "# Start of main program\n",
    "#\n",
    "# # #\n",
    "\n",
    "width = 10\n",
    "height = 10\n",
    "\n",
    "my_array = make2DArray(width, height)\n",
    "for y in range(height):\n",
    "    for x in range(width):\n",
    "        my_array[x][y] = y\n",
    "        \n",
    "my_array"
   ]
  },
  {
   "cell_type": "markdown",
   "metadata": {},
   "source": [
    "# Fun With Functions"
   ]
  },
  {
   "cell_type": "code",
   "execution_count": null,
   "metadata": {},
   "outputs": [],
   "source": [
    "# Functions\n",
    "\n",
    "# @returns Math.sqrt(num)\n",
    "def squareroot(number1):\n",
    "    return number1**.5\n",
    "\n",
    "# @returns Math.dist(A, B)\n",
    "def distance(point1, point2):\n",
    "    return squareroot((point1[0] - point2[0])**2 + (point1[1] - point2[1])**2)\n",
    "\n",
    "# @returns Math.abs(num)\n",
    "def absolute_value(number1):\n",
    "    return distance([0, 0], [number1, 0])\n",
    "\n",
    "# @returns Math.array((n)) + Math.array((n))\n",
    "def add_arrays(a, aa):\n",
    "    return [ (a + aa)[i] + (a + aa)[i + len(a)] for i in range(len(a))]\n",
    "\n",
    "\n",
    "# Main program\n",
    "x = 5\n",
    "y = 5\n",
    "\n",
    "diffx = 10\n",
    "diffy = 0\n",
    "\n",
    "pointA = [ x, y ]\n",
    "displacement = [ diffx, diffy ]\n",
    "\n",
    "pointB = add_arrays(pointA, displacement)\n",
    "\n",
    "# Distance formula from: http://hyperphysics.phy-astr.gsu.edu/hbase/dist.html\n",
    "Distance = distance(pointA, pointB)\n",
    "\n",
    "assert(Distance == absolute_value(Distance)) # For all x and y\n",
    "\n",
    "print(Distance)\n",
    "\n",
    "###\n",
    "# All functions at the top are implemented in other libraries\n",
    "#\n",
    "\n",
    "from math import sqrt, dist\n",
    "#from numpy import abs, array\n",
    "\n",
    "assert(dist(pointA, pointB) == distance(pointA, pointB))\n",
    "assert([2, 4, 6] == add_arrays([1, 2, 3], [1, 2, 3]))"
   ]
  },
  {
   "cell_type": "markdown",
   "metadata": {},
   "source": [
    "# A Simple Grapher"
   ]
  },
  {
   "cell_type": "code",
   "execution_count": null,
   "metadata": {},
   "outputs": [],
   "source": [
    "from math import floor, ceil\n",
    "import copy\n",
    "\n",
    "# Class definition for graph\n",
    "class Graph:\n",
    "    def __init__(self, size):\n",
    "        self.size = size\n",
    "        \n",
    "    def plot(self, xs, ys):\n",
    "        self.coords = [[x, y] for x, y in zip(xs, ys)]\n",
    "        \n",
    "        x_range = self.coords[-1][0] - self.coords[0][0]\n",
    "        \n",
    "        ysort = copy.copy(self.coords)\n",
    "        ysort.sort(key=lambda x: x[1])\n",
    "        y_range = ysort[-1][1] - ysort[0][1]\n",
    "        \n",
    "        graph = [ '0' * self.size ] * self.size\n",
    "        \n",
    "        for coord in self.coords:\n",
    "            line_x = floor((coord[0] - self.coords[0][0])/(x_range + 1)*self.size)\n",
    "            line_y = self.size - 1 - floor((coord[1] - ysort[0][1])/(y_range + 1)*self.size)\n",
    "            graph[line_y] = graph[line_y][:line_x] + '.' + graph[line_y][line_x + 1:]\n",
    "\n",
    "        for i in range(self.size):\n",
    "            row = ''\n",
    "            for j in range(self.size):\n",
    "                row += graph[i][j] + ' '\n",
    "            print(row)\n",
    "            \n",
    "xs = range(25)\n",
    "ys = range(25)\n",
    "\n",
    "graph = Graph(25)\n",
    "graph.plot(xs, ys)"
   ]
  },
  {
   "cell_type": "code",
   "execution_count": null,
   "metadata": {},
   "outputs": [],
   "source": [
    "from math import pi, cos\n",
    "\n",
    "xs = range(25)\n",
    "ys = []\n",
    "for x in xs:\n",
    "    ys.append(cos(x*pi/25))\n",
    "    \n",
    "graph.plot(xs, ys)"
   ]
  },
  {
   "cell_type": "code",
   "execution_count": null,
   "metadata": {},
   "outputs": [],
   "source": []
  }
 ],
 "metadata": {
  "kernelspec": {
   "display_name": "Python 3 (ipykernel)",
   "language": "python",
   "name": "python3"
  },
  "language_info": {
   "codemirror_mode": {
    "name": "ipython",
    "version": 3
   },
   "file_extension": ".py",
   "mimetype": "text/x-python",
   "name": "python",
   "nbconvert_exporter": "python",
   "pygments_lexer": "ipython3",
   "version": "3.10.2"
  }
 },
 "nbformat": 4,
 "nbformat_minor": 4
}
